{
 "cells": [
  {
   "cell_type": "markdown",
   "id": "2542f14d",
   "metadata": {},
   "source": [
    "## Importación de librerías"
   ]
  },
  {
   "cell_type": "code",
   "execution_count": 1,
   "id": "d984f267",
   "metadata": {},
   "outputs": [],
   "source": [
    "import pandas as pd\n",
    "import numpy as np"
   ]
  },
  {
   "cell_type": "markdown",
   "id": "c90a8437",
   "metadata": {},
   "source": [
    "## Carga de datos"
   ]
  },
  {
   "cell_type": "markdown",
   "id": "420d3f7e",
   "metadata": {},
   "source": [
    "Vamos a tratar las columnas de fechas `dateCrawled`, `dateCreated`,`lastSeen` como tipo de dato Datetime"
   ]
  },
  {
   "cell_type": "code",
   "execution_count": 9,
   "id": "09a320d6",
   "metadata": {},
   "outputs": [],
   "source": [
    "df = pd.read_csv(\"../data/raw/autorenew.csv\", parse_dates=[\"dateCrawled\", \"dateCreated\",\"lastSeen\"])"
   ]
  },
  {
   "cell_type": "markdown",
   "id": "99159553",
   "metadata": {},
   "source": [
    "## Análisis preliminar"
   ]
  },
  {
   "cell_type": "code",
   "execution_count": 46,
   "id": "194cf704",
   "metadata": {},
   "outputs": [
    {
     "data": {
      "text/html": [
       "<div>\n",
       "<style scoped>\n",
       "    .dataframe tbody tr th:only-of-type {\n",
       "        vertical-align: middle;\n",
       "    }\n",
       "\n",
       "    .dataframe tbody tr th {\n",
       "        vertical-align: top;\n",
       "    }\n",
       "\n",
       "    .dataframe thead th {\n",
       "        text-align: right;\n",
       "    }\n",
       "</style>\n",
       "<table border=\"1\" class=\"dataframe\">\n",
       "  <thead>\n",
       "    <tr style=\"text-align: right;\">\n",
       "      <th></th>\n",
       "      <th>name</th>\n",
       "      <th>seller</th>\n",
       "      <th>offerType</th>\n",
       "      <th>price</th>\n",
       "      <th>vehicleType</th>\n",
       "      <th>yearOfRegistration</th>\n",
       "      <th>gearbox</th>\n",
       "      <th>powerCV</th>\n",
       "      <th>model</th>\n",
       "      <th>kilometer</th>\n",
       "      <th>monthOfRegistration</th>\n",
       "      <th>fuelType</th>\n",
       "      <th>brand</th>\n",
       "      <th>notRepairedDamage</th>\n",
       "      <th>nrOfPictures</th>\n",
       "      <th>postalCode</th>\n",
       "    </tr>\n",
       "  </thead>\n",
       "  <tbody>\n",
       "    <tr>\n",
       "      <th>147197</th>\n",
       "      <td>Audi_TT</td>\n",
       "      <td>private</td>\n",
       "      <td>offer</td>\n",
       "      <td>11999</td>\n",
       "      <td>coupe</td>\n",
       "      <td>2006</td>\n",
       "      <td>automatic</td>\n",
       "      <td>197.0</td>\n",
       "      <td>tt</td>\n",
       "      <td>125000</td>\n",
       "      <td>10</td>\n",
       "      <td>petrol</td>\n",
       "      <td>audi</td>\n",
       "      <td>yes</td>\n",
       "      <td>0</td>\n",
       "      <td>73432</td>\n",
       "    </tr>\n",
       "    <tr>\n",
       "      <th>244267</th>\n",
       "      <td>Ford_Focus_Trend_2_0_16V</td>\n",
       "      <td>private</td>\n",
       "      <td>offer</td>\n",
       "      <td>1350</td>\n",
       "      <td>NaN</td>\n",
       "      <td>1999</td>\n",
       "      <td>manually</td>\n",
       "      <td>129.0</td>\n",
       "      <td>focus</td>\n",
       "      <td>150000</td>\n",
       "      <td>10</td>\n",
       "      <td>petrol</td>\n",
       "      <td>ford</td>\n",
       "      <td>no</td>\n",
       "      <td>0</td>\n",
       "      <td>66740</td>\n",
       "    </tr>\n",
       "    <tr>\n",
       "      <th>78184</th>\n",
       "      <td>Bastlerauto_Ford_Fiesta</td>\n",
       "      <td>private</td>\n",
       "      <td>offer</td>\n",
       "      <td>250</td>\n",
       "      <td>small car</td>\n",
       "      <td>1997</td>\n",
       "      <td>NaN</td>\n",
       "      <td>0.0</td>\n",
       "      <td>fiesta</td>\n",
       "      <td>60000</td>\n",
       "      <td>3</td>\n",
       "      <td>petrol</td>\n",
       "      <td>ford</td>\n",
       "      <td>no</td>\n",
       "      <td>0</td>\n",
       "      <td>4567</td>\n",
       "    </tr>\n",
       "    <tr>\n",
       "      <th>169486</th>\n",
       "      <td>Mercedes_C_220_cdi_T_Classic</td>\n",
       "      <td>private</td>\n",
       "      <td>offer</td>\n",
       "      <td>2900</td>\n",
       "      <td>combi</td>\n",
       "      <td>2002</td>\n",
       "      <td>automatic</td>\n",
       "      <td>143.0</td>\n",
       "      <td>c_klasse</td>\n",
       "      <td>150000</td>\n",
       "      <td>6</td>\n",
       "      <td>diesel</td>\n",
       "      <td>mercedes_benz</td>\n",
       "      <td>no</td>\n",
       "      <td>0</td>\n",
       "      <td>79848</td>\n",
       "    </tr>\n",
       "    <tr>\n",
       "      <th>15616</th>\n",
       "      <td>Suzuki_Jimny_Ranger</td>\n",
       "      <td>private</td>\n",
       "      <td>offer</td>\n",
       "      <td>8700</td>\n",
       "      <td>suv</td>\n",
       "      <td>2010</td>\n",
       "      <td>manually</td>\n",
       "      <td>85.0</td>\n",
       "      <td>jimny</td>\n",
       "      <td>90000</td>\n",
       "      <td>3</td>\n",
       "      <td>petrol</td>\n",
       "      <td>suzuki</td>\n",
       "      <td>no</td>\n",
       "      <td>0</td>\n",
       "      <td>54341</td>\n",
       "    </tr>\n",
       "    <tr>\n",
       "      <th>277073</th>\n",
       "      <td>Audi_A3_1.6_Ambition</td>\n",
       "      <td>private</td>\n",
       "      <td>offer</td>\n",
       "      <td>1799</td>\n",
       "      <td>NaN</td>\n",
       "      <td>1997</td>\n",
       "      <td>manually</td>\n",
       "      <td>100.0</td>\n",
       "      <td>a3</td>\n",
       "      <td>150000</td>\n",
       "      <td>4</td>\n",
       "      <td>petrol</td>\n",
       "      <td>audi</td>\n",
       "      <td>no</td>\n",
       "      <td>0</td>\n",
       "      <td>31246</td>\n",
       "    </tr>\n",
       "    <tr>\n",
       "      <th>198053</th>\n",
       "      <td>Opel_Corsa_B_Bj_2000_kein_Tuev</td>\n",
       "      <td>private</td>\n",
       "      <td>offer</td>\n",
       "      <td>99</td>\n",
       "      <td>small car</td>\n",
       "      <td>2000</td>\n",
       "      <td>manually</td>\n",
       "      <td>53.0</td>\n",
       "      <td>corsa</td>\n",
       "      <td>150000</td>\n",
       "      <td>12</td>\n",
       "      <td>petrol</td>\n",
       "      <td>opel</td>\n",
       "      <td>NaN</td>\n",
       "      <td>0</td>\n",
       "      <td>21035</td>\n",
       "    </tr>\n",
       "    <tr>\n",
       "      <th>142773</th>\n",
       "      <td>VW_Touran_1_9_TDI_Highline_Grau</td>\n",
       "      <td>private</td>\n",
       "      <td>offer</td>\n",
       "      <td>8500</td>\n",
       "      <td>NaN</td>\n",
       "      <td>2017</td>\n",
       "      <td>manually</td>\n",
       "      <td>104.0</td>\n",
       "      <td>touran</td>\n",
       "      <td>125000</td>\n",
       "      <td>3</td>\n",
       "      <td>NaN</td>\n",
       "      <td>volkswagen</td>\n",
       "      <td>no</td>\n",
       "      <td>0</td>\n",
       "      <td>41468</td>\n",
       "    </tr>\n",
       "    <tr>\n",
       "      <th>356483</th>\n",
       "      <td>Touran_2.0_TDI_DPF_Highline</td>\n",
       "      <td>private</td>\n",
       "      <td>offer</td>\n",
       "      <td>3100</td>\n",
       "      <td>NaN</td>\n",
       "      <td>2007</td>\n",
       "      <td>NaN</td>\n",
       "      <td>0.0</td>\n",
       "      <td>touran</td>\n",
       "      <td>150000</td>\n",
       "      <td>11</td>\n",
       "      <td>diesel</td>\n",
       "      <td>volkswagen</td>\n",
       "      <td>no</td>\n",
       "      <td>0</td>\n",
       "      <td>36043</td>\n",
       "    </tr>\n",
       "    <tr>\n",
       "      <th>290054</th>\n",
       "      <td>BMW_523i_Touring_Aut._Komfortsitze_Nappa_NavPro</td>\n",
       "      <td>private</td>\n",
       "      <td>offer</td>\n",
       "      <td>16200</td>\n",
       "      <td>combi</td>\n",
       "      <td>2009</td>\n",
       "      <td>automatic</td>\n",
       "      <td>187.0</td>\n",
       "      <td>5er</td>\n",
       "      <td>125000</td>\n",
       "      <td>8</td>\n",
       "      <td>petrol</td>\n",
       "      <td>bmw</td>\n",
       "      <td>no</td>\n",
       "      <td>0</td>\n",
       "      <td>2977</td>\n",
       "    </tr>\n",
       "  </tbody>\n",
       "</table>\n",
       "</div>"
      ],
      "text/plain": [
       "                                                   name   seller offerType  \\\n",
       "147197                                          Audi_TT  private     offer   \n",
       "244267                         Ford_Focus_Trend_2_0_16V  private     offer   \n",
       "78184                           Bastlerauto_Ford_Fiesta  private     offer   \n",
       "169486                     Mercedes_C_220_cdi_T_Classic  private     offer   \n",
       "15616                               Suzuki_Jimny_Ranger  private     offer   \n",
       "277073                             Audi_A3_1.6_Ambition  private     offer   \n",
       "198053                   Opel_Corsa_B_Bj_2000_kein_Tuev  private     offer   \n",
       "142773                  VW_Touran_1_9_TDI_Highline_Grau  private     offer   \n",
       "356483                      Touran_2.0_TDI_DPF_Highline  private     offer   \n",
       "290054  BMW_523i_Touring_Aut._Komfortsitze_Nappa_NavPro  private     offer   \n",
       "\n",
       "        price vehicleType  yearOfRegistration    gearbox  powerCV     model  \\\n",
       "147197  11999       coupe                2006  automatic    197.0        tt   \n",
       "244267   1350         NaN                1999   manually    129.0     focus   \n",
       "78184     250   small car                1997        NaN      0.0    fiesta   \n",
       "169486   2900       combi                2002  automatic    143.0  c_klasse   \n",
       "15616    8700         suv                2010   manually     85.0     jimny   \n",
       "277073   1799         NaN                1997   manually    100.0        a3   \n",
       "198053     99   small car                2000   manually     53.0     corsa   \n",
       "142773   8500         NaN                2017   manually    104.0    touran   \n",
       "356483   3100         NaN                2007        NaN      0.0    touran   \n",
       "290054  16200       combi                2009  automatic    187.0       5er   \n",
       "\n",
       "        kilometer  monthOfRegistration fuelType          brand  \\\n",
       "147197     125000                   10   petrol           audi   \n",
       "244267     150000                   10   petrol           ford   \n",
       "78184       60000                    3   petrol           ford   \n",
       "169486     150000                    6   diesel  mercedes_benz   \n",
       "15616       90000                    3   petrol         suzuki   \n",
       "277073     150000                    4   petrol           audi   \n",
       "198053     150000                   12   petrol           opel   \n",
       "142773     125000                    3      NaN     volkswagen   \n",
       "356483     150000                   11   diesel     volkswagen   \n",
       "290054     125000                    8   petrol            bmw   \n",
       "\n",
       "       notRepairedDamage  nrOfPictures  postalCode  \n",
       "147197               yes             0       73432  \n",
       "244267                no             0       66740  \n",
       "78184                 no             0        4567  \n",
       "169486                no             0       79848  \n",
       "15616                 no             0       54341  \n",
       "277073                no             0       31246  \n",
       "198053               NaN             0       21035  \n",
       "142773                no             0       41468  \n",
       "356483                no             0       36043  \n",
       "290054                no             0        2977  "
      ]
     },
     "execution_count": 46,
     "metadata": {},
     "output_type": "execute_result"
    }
   ],
   "source": [
    "df.sample(10)"
   ]
  },
  {
   "cell_type": "code",
   "execution_count": 13,
   "id": "e8083ed3",
   "metadata": {},
   "outputs": [
    {
     "name": "stdout",
     "output_type": "stream",
     "text": [
      "El dataset tiene 371528 filas y 19 columnas\n"
     ]
    }
   ],
   "source": [
    "print(f\"El dataset tiene {df.shape[0]} filas y {df.shape[1]} columnas\")"
   ]
  },
  {
   "cell_type": "code",
   "execution_count": 11,
   "id": "af17039c",
   "metadata": {},
   "outputs": [
    {
     "name": "stdout",
     "output_type": "stream",
     "text": [
      "<class 'pandas.core.frame.DataFrame'>\n",
      "RangeIndex: 371528 entries, 0 to 371527\n",
      "Data columns (total 19 columns):\n",
      " #   Column               Non-Null Count   Dtype         \n",
      "---  ------               --------------   -----         \n",
      " 0   dateCrawled          371528 non-null  datetime64[ns]\n",
      " 1   name                 371528 non-null  object        \n",
      " 2   seller               371528 non-null  object        \n",
      " 3   offerType            371528 non-null  object        \n",
      " 4   price                371528 non-null  int64         \n",
      " 5   vehicleType          237765 non-null  object        \n",
      " 6   yearOfRegistration   371528 non-null  int64         \n",
      " 7   gearbox              351319 non-null  object        \n",
      " 8   powerCV              371528 non-null  float64       \n",
      " 9   model                351044 non-null  object        \n",
      " 10  kilometer            371528 non-null  int64         \n",
      " 11  monthOfRegistration  371528 non-null  int64         \n",
      " 12  fuelType             338142 non-null  object        \n",
      " 13  brand                371528 non-null  object        \n",
      " 14  notRepairedDamage    299468 non-null  object        \n",
      " 15  dateCreated          371528 non-null  datetime64[ns]\n",
      " 16  nrOfPictures         371528 non-null  int64         \n",
      " 17  postalCode           371528 non-null  int64         \n",
      " 18  lastSeen             371528 non-null  datetime64[ns]\n",
      "dtypes: datetime64[ns](3), float64(1), int64(6), object(9)\n",
      "memory usage: 53.9+ MB\n"
     ]
    }
   ],
   "source": [
    "df.info()"
   ]
  },
  {
   "cell_type": "markdown",
   "id": "8718851b",
   "metadata": {},
   "source": [
    "## Columnas del Dataset\n",
    "\n",
    "- **`dateCrawled`** fecha y hora en la que se han recopilado los datos del coche\n",
    "- **`name`** nombre del anuncio, incluye marca y modelo del coche.\n",
    "- **`seller`** Tipo de vendedor (Particular o concesionario)\n",
    "- **`offerType`** tipo de oferta (venta o subasta)\n",
    "- **`price`** precio del coche, no sabemos la divisa\n",
    "- **`vehicleType`** tipo vehiculo, (sedán , SUV, compacto...)\n",
    "- **`yearOfRegistration`** año de matriculación del coche\n",
    "- **`gearbox`** Tipo de transmisión, (manual o automática)\n",
    "- **`powerCV`** Potencia del coche en caballos (CV)\n",
    "- **`model`** Modelo del coche\n",
    "- **`kilometer`** kilometraje total del coche\n",
    "- **`monthOfRegistration`** Mes de matriculación\n",
    "- **`fuelType`** Tipo de combustible (gasolina, diese, electrico...)\n",
    "- **`brand`** Marca del coche\n",
    "- **`notRepairedDamage`** Indica si el coche tiene daños sin reparar\n",
    "- **`dateCreated`** Fecha de creacion (anuncio)\n",
    "- **`nrOfPictures`** Número de fotos (anuncio)\n",
    "- **`postalCode`** Código postal de la ubicación del coche\n",
    "- **`lastSeen`** Última fecha y hora en la se visualizó el anuncio\n"
   ]
  },
  {
   "cell_type": "markdown",
   "id": "c5be46c5",
   "metadata": {},
   "source": [
    "### Análisis de fechas\n",
    "Comprobar los valores únicos de los años para conocer el intervalo de tiempo"
   ]
  },
  {
   "cell_type": "code",
   "execution_count": 18,
   "id": "bf8515a7",
   "metadata": {},
   "outputs": [
    {
     "name": "stdout",
     "output_type": "stream",
     "text": [
      "Valores únicos de los años para dateCrawled: [2016]\n",
      "Valores únicos de los años para dateCreated: [2016 2015 2014]\n",
      "Valores únicos de los años para lastSeen: [2016]\n"
     ]
    }
   ],
   "source": [
    "columnas_fechas = ['dateCrawled', 'dateCreated', 'lastSeen']\n",
    "\n",
    "for col in columnas_fechas:\n",
    "     print(f\"Valores únicos de los años para {col}: {df[col].dt.year.unique()}\")"
   ]
  },
  {
   "cell_type": "markdown",
   "id": "8900cec6",
   "metadata": {},
   "source": [
    "- Los datos se extrajeron exclusivamente en 2016\n",
    "- Los anuncios son entre 2014 y 2016\n",
    "- Asumeremos que los vehiculos mass nuevos solo pueden ser de 2016 en lugar del año actual\n",
    "- Aparte de eso, estas columnas no aportan valor adicional, por tanto, las eliminaremos"
   ]
  },
  {
   "cell_type": "code",
   "execution_count": null,
   "id": "d6b7401b",
   "metadata": {},
   "outputs": [],
   "source": [
    "df = df.drop(columns=columnas_fechas)"
   ]
  },
  {
   "cell_type": "markdown",
   "id": "615943e7",
   "metadata": {},
   "source": [
    "## Duplicados"
   ]
  },
  {
   "cell_type": "markdown",
   "id": "75688f7c",
   "metadata": {},
   "source": [
    "Ahora que hemos eliminado las fechas, comprobemos los duplicados. Es posible que un mismo vehículo haya sido registrado múltiples veces en diferentes fechas."
   ]
  },
  {
   "cell_type": "code",
   "execution_count": 31,
   "id": "1983214b",
   "metadata": {},
   "outputs": [
    {
     "data": {
      "text/plain": [
       "6624"
      ]
     },
     "execution_count": 31,
     "metadata": {},
     "output_type": "execute_result"
    }
   ],
   "source": [
    "df.duplicated().sum()"
   ]
  },
  {
   "cell_type": "code",
   "execution_count": 32,
   "id": "bd089eee",
   "metadata": {},
   "outputs": [
    {
     "data": {
      "text/plain": [
       "1.78"
      ]
     },
     "execution_count": 32,
     "metadata": {},
     "output_type": "execute_result"
    }
   ],
   "source": [
    "round(df.duplicated().mean() * 100, 2)"
   ]
  },
  {
   "cell_type": "markdown",
   "id": "0b89645e",
   "metadata": {},
   "source": [
    "Hay 6624 duplicados (1.78 %), los eliminamos."
   ]
  },
  {
   "cell_type": "code",
   "execution_count": 34,
   "id": "1936e107",
   "metadata": {},
   "outputs": [],
   "source": [
    "df = df.drop_duplicates()"
   ]
  },
  {
   "cell_type": "markdown",
   "id": "a3ad078c",
   "metadata": {},
   "source": [
    "## Valores nulo\n",
    "Comprobar el total de valores nulos del dataset"
   ]
  },
  {
   "cell_type": "code",
   "execution_count": 39,
   "id": "e840af10",
   "metadata": {},
   "outputs": [
    {
     "data": {
      "text/plain": [
       "vehicleType          131462\n",
       "gearbox               19806\n",
       "model                 20294\n",
       "fuelType              33084\n",
       "notRepairedDamage     70776\n",
       "dtype: int64"
      ]
     },
     "execution_count": 39,
     "metadata": {},
     "output_type": "execute_result"
    }
   ],
   "source": [
    "nulos = df.isna().sum()\n",
    "nulos[nulos > 0]"
   ]
  },
  {
   "cell_type": "markdown",
   "id": "eabdb871",
   "metadata": {},
   "source": [
    "Veamos si son muchos o pocos nulos"
   ]
  },
  {
   "cell_type": "code",
   "execution_count": 40,
   "id": "ad10b3a6",
   "metadata": {},
   "outputs": [
    {
     "data": {
      "text/plain": [
       "vehicleType          36.03\n",
       "gearbox               5.43\n",
       "model                 5.56\n",
       "fuelType              9.07\n",
       "notRepairedDamage    19.40\n",
       "dtype: float64"
      ]
     },
     "execution_count": 40,
     "metadata": {},
     "output_type": "execute_result"
    }
   ],
   "source": [
    "nulos_porc = df.isna().mean() * 100\n",
    "nulos_porc[nulos_porc > 0].round(2)"
   ]
  },
  {
   "cell_type": "markdown",
   "id": "7e1c8646",
   "metadata": {},
   "source": [
    "Vemos que hay pocas columnas con valores nulos, de las cuales:\n",
    "- `gearbox` y `model`: apenas un 5%, pocos nulos\n",
    "- `fuelType`: un 9%, pocos nulos\n",
    "- `notRepairedDamage`: 19% de nulos, cantidad moderada\n",
    "- `vehicleType`: 36%, cantidad alta          "
   ]
  },
  {
   "cell_type": "markdown",
   "id": "97cf42b6",
   "metadata": {},
   "source": [
    "## Variables numéricas"
   ]
  },
  {
   "cell_type": "code",
   "execution_count": 43,
   "id": "62d8d08b",
   "metadata": {},
   "outputs": [
    {
     "data": {
      "text/plain": [
       "Index(['price', 'yearOfRegistration', 'powerCV', 'kilometer',\n",
       "       'monthOfRegistration', 'nrOfPictures', 'postalCode'],\n",
       "      dtype='object')"
      ]
     },
     "execution_count": 43,
     "metadata": {},
     "output_type": "execute_result"
    }
   ],
   "source": [
    "columnas_num = df.select_dtypes(include='number').columns\n",
    "columnas_num"
   ]
  },
  {
   "cell_type": "code",
   "execution_count": 45,
   "id": "5135b827",
   "metadata": {},
   "outputs": [
    {
     "data": {
      "text/html": [
       "<div>\n",
       "<style scoped>\n",
       "    .dataframe tbody tr th:only-of-type {\n",
       "        vertical-align: middle;\n",
       "    }\n",
       "\n",
       "    .dataframe tbody tr th {\n",
       "        vertical-align: top;\n",
       "    }\n",
       "\n",
       "    .dataframe thead th {\n",
       "        text-align: right;\n",
       "    }\n",
       "</style>\n",
       "<table border=\"1\" class=\"dataframe\">\n",
       "  <thead>\n",
       "    <tr style=\"text-align: right;\">\n",
       "      <th></th>\n",
       "      <th>count</th>\n",
       "      <th>mean</th>\n",
       "      <th>std</th>\n",
       "      <th>min</th>\n",
       "      <th>25%</th>\n",
       "      <th>50%</th>\n",
       "      <th>75%</th>\n",
       "      <th>max</th>\n",
       "    </tr>\n",
       "  </thead>\n",
       "  <tbody>\n",
       "    <tr>\n",
       "      <th>price</th>\n",
       "      <td>364904.0</td>\n",
       "      <td>17502.27</td>\n",
       "      <td>3620372.48</td>\n",
       "      <td>0.0</td>\n",
       "      <td>1150.0</td>\n",
       "      <td>2950.0</td>\n",
       "      <td>7150.0</td>\n",
       "      <td>2.147484e+09</td>\n",
       "    </tr>\n",
       "    <tr>\n",
       "      <th>yearOfRegistration</th>\n",
       "      <td>364904.0</td>\n",
       "      <td>2004.58</td>\n",
       "      <td>93.55</td>\n",
       "      <td>1000.0</td>\n",
       "      <td>1999.0</td>\n",
       "      <td>2003.0</td>\n",
       "      <td>2008.0</td>\n",
       "      <td>9.999000e+03</td>\n",
       "    </tr>\n",
       "    <tr>\n",
       "      <th>powerCV</th>\n",
       "      <td>364904.0</td>\n",
       "      <td>113.93</td>\n",
       "      <td>190.97</td>\n",
       "      <td>0.0</td>\n",
       "      <td>69.0</td>\n",
       "      <td>104.0</td>\n",
       "      <td>148.0</td>\n",
       "      <td>1.972600e+04</td>\n",
       "    </tr>\n",
       "    <tr>\n",
       "      <th>kilometer</th>\n",
       "      <td>364904.0</td>\n",
       "      <td>125685.07</td>\n",
       "      <td>40090.32</td>\n",
       "      <td>5000.0</td>\n",
       "      <td>125000.0</td>\n",
       "      <td>150000.0</td>\n",
       "      <td>150000.0</td>\n",
       "      <td>1.500000e+05</td>\n",
       "    </tr>\n",
       "    <tr>\n",
       "      <th>monthOfRegistration</th>\n",
       "      <td>364904.0</td>\n",
       "      <td>5.73</td>\n",
       "      <td>3.71</td>\n",
       "      <td>0.0</td>\n",
       "      <td>3.0</td>\n",
       "      <td>6.0</td>\n",
       "      <td>9.0</td>\n",
       "      <td>1.200000e+01</td>\n",
       "    </tr>\n",
       "    <tr>\n",
       "      <th>nrOfPictures</th>\n",
       "      <td>364904.0</td>\n",
       "      <td>0.00</td>\n",
       "      <td>0.00</td>\n",
       "      <td>0.0</td>\n",
       "      <td>0.0</td>\n",
       "      <td>0.0</td>\n",
       "      <td>0.0</td>\n",
       "      <td>0.000000e+00</td>\n",
       "    </tr>\n",
       "    <tr>\n",
       "      <th>postalCode</th>\n",
       "      <td>364904.0</td>\n",
       "      <td>50944.55</td>\n",
       "      <td>25775.64</td>\n",
       "      <td>1067.0</td>\n",
       "      <td>30655.0</td>\n",
       "      <td>49688.0</td>\n",
       "      <td>71642.0</td>\n",
       "      <td>9.999800e+04</td>\n",
       "    </tr>\n",
       "  </tbody>\n",
       "</table>\n",
       "</div>"
      ],
      "text/plain": [
       "                        count       mean         std     min       25%  \\\n",
       "price                364904.0   17502.27  3620372.48     0.0    1150.0   \n",
       "yearOfRegistration   364904.0    2004.58       93.55  1000.0    1999.0   \n",
       "powerCV              364904.0     113.93      190.97     0.0      69.0   \n",
       "kilometer            364904.0  125685.07    40090.32  5000.0  125000.0   \n",
       "monthOfRegistration  364904.0       5.73        3.71     0.0       3.0   \n",
       "nrOfPictures         364904.0       0.00        0.00     0.0       0.0   \n",
       "postalCode           364904.0   50944.55    25775.64  1067.0   30655.0   \n",
       "\n",
       "                          50%       75%           max  \n",
       "price                  2950.0    7150.0  2.147484e+09  \n",
       "yearOfRegistration     2003.0    2008.0  9.999000e+03  \n",
       "powerCV                 104.0     148.0  1.972600e+04  \n",
       "kilometer            150000.0  150000.0  1.500000e+05  \n",
       "monthOfRegistration       6.0       9.0  1.200000e+01  \n",
       "nrOfPictures              0.0       0.0  0.000000e+00  \n",
       "postalCode            49688.0   71642.0  9.999800e+04  "
      ]
     },
     "execution_count": 45,
     "metadata": {},
     "output_type": "execute_result"
    }
   ],
   "source": [
    "df.describe().T.round(2)"
   ]
  },
  {
   "cell_type": "markdown",
   "id": "7800a6a3",
   "metadata": {},
   "source": [
    "Observaciones variables numéricas\n",
    "- `price`:El precio mínimo es cero, un coche gratis no tiene sentido. La media es mucho mayor que la mediana, lo que puede indicar la presencia de numerosos valores atípicos, posiblemente vehiculos de lujo. Precio maximo es un valor incoherente (1e9 mil millones) probablementes debido a errores.\n",
    "- `yearOfRegistration`: El valor mínimo es 1000 valor incoherente, tambien hay valores de 9999 posibles errores en la introducción de datos\n",
    "- `powerCV`:valores min y max incoherentes (0 y 19.700).El resto parecen razonables, estando en un rantgo típico entre 50 y 150 CV\n",
    "- `kilometer`: Valores que parecen razonables, media y mediana similares, sugiere una distribución mas uniforme.\n",
    "- `monthOfRegistration`: Es un falso numérico, variable categórica. Valor minimo en cero es imposible\n",
    "- `nrOfPictures`: Todos los valores son 0, la eliminamos\n",
    "- `postalCode` : Codigos postales, realmente variable categórica. no tenemos informacion sobre el pais al que pertenecen, ni una forma de determinarlo, lo que limita su utilidad para el análisis. Por el nombre de algunas entradas sospechamos que podria ser Alemania, al no tener forma de confirmarlo, decidimos eliminarla.\n"
   ]
  },
  {
   "cell_type": "code",
   "execution_count": 47,
   "id": "a9166840",
   "metadata": {},
   "outputs": [],
   "source": [
    "df = df.drop(columns=['postalCode', 'nrOfPictures'])"
   ]
  },
  {
   "cell_type": "markdown",
   "id": "40723245",
   "metadata": {},
   "source": [
    "## Histogramas"
   ]
  },
  {
   "cell_type": "code",
   "execution_count": 52,
   "id": "fac0a284",
   "metadata": {},
   "outputs": [],
   "source": [
    "import matplotlib.pyplot as plt     \n",
    "import seaborn as sns "
   ]
  },
  {
   "cell_type": "code",
   "execution_count": 59,
   "id": "1d242eaa",
   "metadata": {},
   "outputs": [],
   "source": [
    "columnas_num = df.select_dtypes(include='number').columns"
   ]
  },
  {
   "cell_type": "code",
   "execution_count": 60,
   "id": "23ad07d7",
   "metadata": {},
   "outputs": [
    {
     "name": "stderr",
     "output_type": "stream",
     "text": [
      "c:\\Users\\mctra\\anaconda3\\Lib\\site-packages\\seaborn\\_oldcore.py:1119: FutureWarning: use_inf_as_na option is deprecated and will be removed in a future version. Convert inf values to NaN before operating instead.\n",
      "  with pd.option_context('mode.use_inf_as_na', True):\n"
     ]
    },
    {
     "data": {
      "image/png": "[encoded data removed]",
      "text/plain": [
       "<Figure size 640x480 with 1 Axes>"
      ]
     },
     "metadata": {},
     "output_type": "display_data"
    },
    {
     "name": "stderr",
     "output_type": "stream",
     "text": [
      "c:\\Users\\mctra\\anaconda3\\Lib\\site-packages\\seaborn\\_oldcore.py:1119: FutureWarning: use_inf_as_na option is deprecated and will be removed in a future version. Convert inf values to NaN before operating instead.\n",
      "  with pd.option_context('mode.use_inf_as_na', True):\n"
     ]
    },
    {
     "data": {
      "image/png": "[encoded data removed]",
      "text/plain": [
       "<Figure size 640x480 with 1 Axes>"
      ]
     },
     "metadata": {},
     "output_type": "display_data"
    },
    {
     "name": "stderr",
     "output_type": "stream",
     "text": [
      "c:\\Users\\mctra\\anaconda3\\Lib\\site-packages\\seaborn\\_oldcore.py:1119: FutureWarning: use_inf_as_na option is deprecated and will be removed in a future version. Convert inf values to NaN before operating instead.\n",
      "  with pd.option_context('mode.use_inf_as_na', True):\n"
     ]
    },
    {
     "data": {
      "image/png": "[encoded data removed]",
      "text/plain": [
       "<Figure size 640x480 with 1 Axes>"
      ]
     },
     "metadata": {},
     "output_type": "display_data"
    },
    {
     "name": "stderr",
     "output_type": "stream",
     "text": [
      "c:\\Users\\mctra\\anaconda3\\Lib\\site-packages\\seaborn\\_oldcore.py:1119: FutureWarning: use_inf_as_na option is deprecated and will be removed in a future version. Convert inf values to NaN before operating instead.\n",
      "  with pd.option_context('mode.use_inf_as_na', True):\n"
     ]
    },
    {
     "data": {
      "image/png": "[encoded data removed]",
      "text/plain": [
       "<Figure size 640x480 with 1 Axes>"
      ]
     },
     "metadata": {},
     "output_type": "display_data"
    },
    {
     "name": "stderr",
     "output_type": "stream",
     "text": [
      "c:\\Users\\mctra\\anaconda3\\Lib\\site-packages\\seaborn\\_oldcore.py:1119: FutureWarning: use_inf_as_na option is deprecated and will be removed in a future version. Convert inf values to NaN before operating instead.\n",
      "  with pd.option_context('mode.use_inf_as_na', True):\n"
     ]
    },
    {
     "data": {
      "image/png": "[encoded data removed]",
      "text/plain": [
       "<Figure size 640x480 with 1 Axes>"
      ]
     },
     "metadata": {},
     "output_type": "display_data"
    }
   ],
   "source": [
    "for col in columnas_num:\n",
    "\n",
    "     plt.figure()\n",
    "     sns.histplot(df[col], bins=30)\n",
    "     plt.show()"
   ]
  },
  {
   "cell_type": "markdown",
   "id": "ab665e6a",
   "metadata": {},
   "source": [
    "## Boxplot"
   ]
  },
  {
   "cell_type": "code",
   "execution_count": 65,
   "id": "fb86eb4b",
   "metadata": {},
   "outputs": [
    {
     "data": {
      "image/png": "[encoded data removed]",
      "text/plain": [
       "<Figure size 1200x100 with 1 Axes>"
      ]
     },
     "metadata": {},
     "output_type": "display_data"
    },
    {
     "data": {
      "image/png": "[encoded data removed]",
      "text/plain": [
       "<Figure size 1200x100 with 1 Axes>"
      ]
     },
     "metadata": {},
     "output_type": "display_data"
    },
    {
     "data": {
      "image/png": "[encoded data removed]",
      "text/plain": [
       "<Figure size 1200x100 with 1 Axes>"
      ]
     },
     "metadata": {},
     "output_type": "display_data"
    },
    {
     "data": {
      "image/png": "[encoded data removed]",
      "text/plain": [
       "<Figure size 1200x100 with 1 Axes>"
      ]
     },
     "metadata": {},
     "output_type": "display_data"
    },
    {
     "data": {
      "image/png": "[encoded data removed]",
      "text/plain": [
       "<Figure size 1200x100 with 1 Axes>"
      ]
     },
     "metadata": {},
     "output_type": "display_data"
    }
   ],
   "source": [
    "for col in columnas_num:\n",
    "\n",
    "     plt.figure(figsize=(12, 1))\n",
    "     sns.boxplot(x=df[col])\n",
    "     plt.show()"
   ]
  }
 ],
 "metadata": {
  "kernelspec": {
   "display_name": "base",
   "language": "python",
   "name": "python3"
  },
  "language_info": {
   "codemirror_mode": {
    "name": "ipython",
    "version": 3
   },
   "file_extension": ".py",
   "mimetype": "text/x-python",
   "name": "python",
   "nbconvert_exporter": "python",
   "pygments_lexer": "ipython3",
   "version": "3.11.7"
  }
 },
 "nbformat": 4,
 "nbformat_minor": 5
}
