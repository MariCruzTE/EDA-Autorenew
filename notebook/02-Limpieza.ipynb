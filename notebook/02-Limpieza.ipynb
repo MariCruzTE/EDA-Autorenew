{
 "cells": [
  {
   "cell_type": "markdown",
   "id": "cd1b996b",
   "metadata": {},
   "source": [
    "## importación de librerias"
   ]
  },
  {
   "cell_type": "code",
   "execution_count": 71,
   "id": "278145e3",
   "metadata": {},
   "outputs": [],
   "source": [
    "\n",
    "import pandas as pd\n",
    "import numpy as np\n",
    "\n",
    "#Visualizaciones\n",
    "import matplotlib.pyplot as plt     \n",
    "import seaborn as sns "
   ]
  },
  {
   "cell_type": "code",
   "execution_count": 30,
   "id": "a2092981",
   "metadata": {},
   "outputs": [],
   "source": [
    "import warnings\n",
    "warnings.filterwarnings(\"ignore\", category=FutureWarning)\n"
   ]
  },
  {
   "cell_type": "markdown",
   "id": "302a46a5",
   "metadata": {},
   "source": [
    "## Carga de datos"
   ]
  },
  {
   "cell_type": "code",
   "execution_count": 31,
   "id": "cdfa66ca",
   "metadata": {},
   "outputs": [
    {
     "data": {
      "text/html": [
       "<div>\n",
       "<style scoped>\n",
       "    .dataframe tbody tr th:only-of-type {\n",
       "        vertical-align: middle;\n",
       "    }\n",
       "\n",
       "    .dataframe tbody tr th {\n",
       "        vertical-align: top;\n",
       "    }\n",
       "\n",
       "    .dataframe thead th {\n",
       "        text-align: right;\n",
       "    }\n",
       "</style>\n",
       "<table border=\"1\" class=\"dataframe\">\n",
       "  <thead>\n",
       "    <tr style=\"text-align: right;\">\n",
       "      <th></th>\n",
       "      <th>dateCrawled</th>\n",
       "      <th>name</th>\n",
       "      <th>seller</th>\n",
       "      <th>offerType</th>\n",
       "      <th>price</th>\n",
       "      <th>vehicleType</th>\n",
       "      <th>yearOfRegistration</th>\n",
       "      <th>gearbox</th>\n",
       "      <th>powerCV</th>\n",
       "      <th>model</th>\n",
       "      <th>kilometer</th>\n",
       "      <th>monthOfRegistration</th>\n",
       "      <th>fuelType</th>\n",
       "      <th>brand</th>\n",
       "      <th>notRepairedDamage</th>\n",
       "      <th>dateCreated</th>\n",
       "      <th>nrOfPictures</th>\n",
       "      <th>postalCode</th>\n",
       "      <th>lastSeen</th>\n",
       "    </tr>\n",
       "  </thead>\n",
       "  <tbody>\n",
       "    <tr>\n",
       "      <th>0</th>\n",
       "      <td>2016-03-24 11:52:17</td>\n",
       "      <td>Golf_3_1.6</td>\n",
       "      <td>private</td>\n",
       "      <td>offer</td>\n",
       "      <td>480</td>\n",
       "      <td>NaN</td>\n",
       "      <td>1993</td>\n",
       "      <td>manually</td>\n",
       "      <td>0.0</td>\n",
       "      <td>golf</td>\n",
       "      <td>150000</td>\n",
       "      <td>0</td>\n",
       "      <td>petrol</td>\n",
       "      <td>volkswagen</td>\n",
       "      <td>NaN</td>\n",
       "      <td>2016-03-24</td>\n",
       "      <td>0</td>\n",
       "      <td>70435</td>\n",
       "      <td>2016-04-07 03:16:57</td>\n",
       "    </tr>\n",
       "    <tr>\n",
       "      <th>1</th>\n",
       "      <td>2016-03-24 10:58:45</td>\n",
       "      <td>A5_Sportback_2.7_Tdi</td>\n",
       "      <td>private</td>\n",
       "      <td>offer</td>\n",
       "      <td>18300</td>\n",
       "      <td>coupe</td>\n",
       "      <td>2011</td>\n",
       "      <td>manually</td>\n",
       "      <td>187.0</td>\n",
       "      <td>NaN</td>\n",
       "      <td>125000</td>\n",
       "      <td>5</td>\n",
       "      <td>diesel</td>\n",
       "      <td>audi</td>\n",
       "      <td>yes</td>\n",
       "      <td>2016-03-24</td>\n",
       "      <td>0</td>\n",
       "      <td>66954</td>\n",
       "      <td>2016-04-07 01:46:50</td>\n",
       "    </tr>\n",
       "    <tr>\n",
       "      <th>2</th>\n",
       "      <td>2016-03-14 12:52:21</td>\n",
       "      <td>Jeep_Grand_Cherokee_\"Overland\"</td>\n",
       "      <td>private</td>\n",
       "      <td>offer</td>\n",
       "      <td>9800</td>\n",
       "      <td>suv</td>\n",
       "      <td>2004</td>\n",
       "      <td>automatic</td>\n",
       "      <td>161.0</td>\n",
       "      <td>grand</td>\n",
       "      <td>125000</td>\n",
       "      <td>8</td>\n",
       "      <td>diesel</td>\n",
       "      <td>jeep</td>\n",
       "      <td>NaN</td>\n",
       "      <td>2016-03-14</td>\n",
       "      <td>0</td>\n",
       "      <td>90480</td>\n",
       "      <td>2016-04-05 12:47:46</td>\n",
       "    </tr>\n",
       "    <tr>\n",
       "      <th>3</th>\n",
       "      <td>2016-03-17 16:54:04</td>\n",
       "      <td>GOLF_4_1_4__3TÜRER</td>\n",
       "      <td>private</td>\n",
       "      <td>offer</td>\n",
       "      <td>1500</td>\n",
       "      <td>small car</td>\n",
       "      <td>2001</td>\n",
       "      <td>manually</td>\n",
       "      <td>74.0</td>\n",
       "      <td>golf</td>\n",
       "      <td>150000</td>\n",
       "      <td>6</td>\n",
       "      <td>petrol</td>\n",
       "      <td>volkswagen</td>\n",
       "      <td>no</td>\n",
       "      <td>2016-03-17</td>\n",
       "      <td>0</td>\n",
       "      <td>91074</td>\n",
       "      <td>2016-03-17 17:40:17</td>\n",
       "    </tr>\n",
       "    <tr>\n",
       "      <th>4</th>\n",
       "      <td>2016-03-31 17:25:20</td>\n",
       "      <td>Skoda_Fabia_1.4_TDI_PD_Classic</td>\n",
       "      <td>private</td>\n",
       "      <td>offer</td>\n",
       "      <td>3600</td>\n",
       "      <td>small car</td>\n",
       "      <td>2008</td>\n",
       "      <td>manually</td>\n",
       "      <td>68.0</td>\n",
       "      <td>fabia</td>\n",
       "      <td>90000</td>\n",
       "      <td>7</td>\n",
       "      <td>diesel</td>\n",
       "      <td>skoda</td>\n",
       "      <td>no</td>\n",
       "      <td>2016-03-31</td>\n",
       "      <td>0</td>\n",
       "      <td>60437</td>\n",
       "      <td>2016-04-06 10:17:21</td>\n",
       "    </tr>\n",
       "  </tbody>\n",
       "</table>\n",
       "</div>"
      ],
      "text/plain": [
       "          dateCrawled                            name   seller offerType  \\\n",
       "0 2016-03-24 11:52:17                      Golf_3_1.6  private     offer   \n",
       "1 2016-03-24 10:58:45            A5_Sportback_2.7_Tdi  private     offer   \n",
       "2 2016-03-14 12:52:21  Jeep_Grand_Cherokee_\"Overland\"  private     offer   \n",
       "3 2016-03-17 16:54:04              GOLF_4_1_4__3TÜRER  private     offer   \n",
       "4 2016-03-31 17:25:20  Skoda_Fabia_1.4_TDI_PD_Classic  private     offer   \n",
       "\n",
       "   price vehicleType  yearOfRegistration    gearbox  powerCV  model  \\\n",
       "0    480         NaN                1993   manually      0.0   golf   \n",
       "1  18300       coupe                2011   manually    187.0    NaN   \n",
       "2   9800         suv                2004  automatic    161.0  grand   \n",
       "3   1500   small car                2001   manually     74.0   golf   \n",
       "4   3600   small car                2008   manually     68.0  fabia   \n",
       "\n",
       "   kilometer  monthOfRegistration fuelType       brand notRepairedDamage  \\\n",
       "0     150000                    0   petrol  volkswagen               NaN   \n",
       "1     125000                    5   diesel        audi               yes   \n",
       "2     125000                    8   diesel        jeep               NaN   \n",
       "3     150000                    6   petrol  volkswagen                no   \n",
       "4      90000                    7   diesel       skoda                no   \n",
       "\n",
       "  dateCreated  nrOfPictures  postalCode            lastSeen  \n",
       "0  2016-03-24             0       70435 2016-04-07 03:16:57  \n",
       "1  2016-03-24             0       66954 2016-04-07 01:46:50  \n",
       "2  2016-03-14             0       90480 2016-04-05 12:47:46  \n",
       "3  2016-03-17             0       91074 2016-03-17 17:40:17  \n",
       "4  2016-03-31             0       60437 2016-04-06 10:17:21  "
      ]
     },
     "execution_count": 31,
     "metadata": {},
     "output_type": "execute_result"
    }
   ],
   "source": [
    "df = pd.read_csv(\"../data/raw/autorenew.csv\", parse_dates=[\"dateCrawled\", \"dateCreated\",\"lastSeen\"])\n",
    "df.head()"
   ]
  },
  {
   "cell_type": "markdown",
   "id": "a3fce969",
   "metadata": {},
   "source": [
    "## Selección de columnas"
   ]
  },
  {
   "cell_type": "markdown",
   "id": "b277c524",
   "metadata": {},
   "source": [
    "Vamos a eliminar columnas que no nos aportan información relevante:\n",
    "- `dateCrawled`,`dateCreated` y `lastSeen`: En el EDA preliminar vimos que los anuncios son enttre 2017 y 2016, mas allá de eso, no aporta más información.\n",
    "- `seller`: Todos los valores son private salvo 3 entradas, que son comercial. Eliminamos directamente la columna.\n",
    "- `offerType`: Todos los valores son offer menos 12 entradas, que son request. Podemos eliminar la columna y los vehiculos que son request.\n",
    "- `model`: Hay más de 250 entradas y es una subcategoría de `brand`.Se podria dejar para un análisis más granular, pero ahora vamos a eliminarla.\n",
    "- `monthOfRegistration`: Podríamos hacer un análisis de estacionalidad o por temporada, pero no será el caso.Ademas hay un valor que es 0, que es imposible para meses y sería realmente desconocido.Utilizaremos sólamente `yearOfRegistration`.\n",
    "- `nrOfPictures`: Todos los valores son 0, no aporta valor.\n",
    "- `postalCode`: Corresponde a códigos postales y podría tratarse como categórica. No nos aporta mucha información que nos resulte útil, por ello decidimos eliminarla."
   ]
  },
  {
   "cell_type": "markdown",
   "id": "f9b4498f",
   "metadata": {},
   "source": [
    "### Eliminar duplicados\n"
   ]
  },
  {
   "cell_type": "code",
   "execution_count": 32,
   "id": "fc5dd937",
   "metadata": {},
   "outputs": [],
   "source": [
    "df = df.drop_duplicates()"
   ]
  },
  {
   "cell_type": "code",
   "execution_count": 33,
   "id": "479ee3b4",
   "metadata": {},
   "outputs": [
    {
     "data": {
      "text/plain": [
       "Index(['dateCrawled', 'name', 'seller', 'offerType', 'price', 'vehicleType',\n",
       "       'yearOfRegistration', 'gearbox', 'powerCV', 'model', 'kilometer',\n",
       "       'monthOfRegistration', 'fuelType', 'brand', 'notRepairedDamage',\n",
       "       'dateCreated', 'nrOfPictures', 'postalCode', 'lastSeen'],\n",
       "      dtype='object')"
      ]
     },
     "execution_count": 33,
     "metadata": {},
     "output_type": "execute_result"
    }
   ],
   "source": [
    "df.columns"
   ]
  },
  {
   "cell_type": "code",
   "execution_count": 34,
   "id": "f0ce7869",
   "metadata": {},
   "outputs": [],
   "source": [
    "columnas_eliminar = [\n",
    "    \"dateCrawled\", \n",
    "    \"dateCreated\",\n",
    "    \"lastSeen\",\n",
    "    \"seller\",\n",
    "    \"offerType\",\n",
    "    \"model\",\n",
    "    \"monthOfRegistration\",\n",
    "    \"nrOfPictures\",\n",
    "    \"postalCode\" \n",
    "]"
   ]
  },
  {
   "cell_type": "code",
   "execution_count": 35,
   "id": "af6deeea",
   "metadata": {},
   "outputs": [],
   "source": [
    "df = df.drop(columns=columnas_eliminar)"
   ]
  },
  {
   "cell_type": "code",
   "execution_count": 36,
   "id": "0914f5c0",
   "metadata": {},
   "outputs": [
    {
     "data": {
      "text/plain": [
       "3.1"
      ]
     },
     "execution_count": 36,
     "metadata": {},
     "output_type": "execute_result"
    }
   ],
   "source": [
    "df.duplicated().mean().round(3) * 100"
   ]
  },
  {
   "cell_type": "markdown",
   "id": "ce486c10",
   "metadata": {},
   "source": [
    "Comprobamos de nuevo duplicados, poco peso en porcentaje, los dejamos de momento\n",
    "- Pueden ser diferentes unidades del mismo vehiculo\n",
    "- No tenemos forma de saber si es el mismo o diferente ya que no tenemos un identificador único"
   ]
  },
  {
   "cell_type": "markdown",
   "id": "bf8421d9",
   "metadata": {},
   "source": [
    "## Limpieza de datos"
   ]
  },
  {
   "cell_type": "code",
   "execution_count": 37,
   "id": "e0f90a54",
   "metadata": {},
   "outputs": [
    {
     "data": {
      "text/plain": [
       "Index(['name', 'price', 'vehicleType', 'yearOfRegistration', 'gearbox',\n",
       "       'powerCV', 'kilometer', 'fuelType', 'brand', 'notRepairedDamage'],\n",
       "      dtype='object')"
      ]
     },
     "execution_count": 37,
     "metadata": {},
     "output_type": "execute_result"
    }
   ],
   "source": [
    "df.columns"
   ]
  },
  {
   "cell_type": "markdown",
   "id": "82fc66cb",
   "metadata": {},
   "source": [
    "### Columna `price`"
   ]
  },
  {
   "cell_type": "markdown",
   "id": "2863cd34",
   "metadata": {},
   "source": [
    "Valores extremadamente bajos de precio no tiene sentido. Sin embargo es dificil establecer un criterio estricto para filtrar, ya que vehiculos muy antiguos o con daños, realmente pueden tener precios muy bajos."
   ]
  },
  {
   "cell_type": "code",
   "execution_count": 38,
   "id": "f46d7958",
   "metadata": {},
   "outputs": [
    {
     "name": "stdout",
     "output_type": "stream",
     "text": [
      "El porcentaje de valores nulos en la columna price es: 0\n"
     ]
    }
   ],
   "source": [
    "print(f\"El porcentaje de valores nulos en la columna price es: {df['price'].isna().sum()}\")"
   ]
  },
  {
   "cell_type": "markdown",
   "id": "5a1b1f09",
   "metadata": {},
   "source": [
    "Como no tenemos valores nulos, veamos qué proporción de vehiculos tienen un valor inferior a cierto umbral. Podemos elegir por ejemplo el umbral en 100(presumiblemente euros)"
   ]
  },
  {
   "cell_type": "code",
   "execution_count": 39,
   "id": "7468529a",
   "metadata": {},
   "outputs": [
    {
     "name": "stdout",
     "output_type": "stream",
     "text": [
      "El porcentaje de vehículos por debajo de 100 es: 3.59 %\n"
     ]
    }
   ],
   "source": [
    "umbral_precio_inferior = 100\n",
    "\n",
    "porcentaje_baratos = (df['price'] < umbral_precio_inferior).mean() * 100\n",
    "print(f\"El porcentaje de vehículos por debajo de {umbral_precio_inferior} es: {round(porcentaje_baratos, 2)} %\")"
   ]
  },
  {
   "cell_type": "markdown",
   "id": "a0c3c82a",
   "metadata": {},
   "source": [
    "\n",
    "Los datos con un precio inferiroa 100 son muy probablemente erróneos y representan alrededor del 3.6% del conjunto de datos, por lo que parece razonable eliminarlos.\n",
    "Es posible que haya vehiculos que realmente tengan un precio por debajo de 100 debido a daños no reparados o a su antigüedad, pero es dificil establecer este criterio, así que procedemos de esta manera."
   ]
  },
  {
   "cell_type": "markdown",
   "id": "bc0b1716",
   "metadata": {},
   "source": [
    "Veamos qué sucede con los vehículos con un precio muy elevado. Pongamos el umbral en 4M."
   ]
  },
  {
   "cell_type": "code",
   "execution_count": 40,
   "id": "3cb0aae9",
   "metadata": {},
   "outputs": [
    {
     "name": "stdout",
     "output_type": "stream",
     "text": [
      "El porcentaje de vehículos por encima de 4000000.0 es: 0.014 %\n"
     ]
    }
   ],
   "source": [
    "umbral_precio_superior = 4e6\n",
    "\n",
    "porcentaje_caros = (df['price'] > umbral_precio_superior).mean() * 100\n",
    "print(f\"El porcentaje de vehículos por encima de {umbral_precio_superior} es: {porcentaje_caros:.3f} %\")"
   ]
  },
  {
   "cell_type": "markdown",
   "id": "bf6206f6",
   "metadata": {},
   "source": [
    "Vamos a revisar manualmente estos datos para comprobar si tienen sentido:"
   ]
  },
  {
   "cell_type": "code",
   "execution_count": 41,
   "id": "4fefdbbd",
   "metadata": {},
   "outputs": [
    {
     "data": {
      "text/html": [
       "<div>\n",
       "<style scoped>\n",
       "    .dataframe tbody tr th:only-of-type {\n",
       "        vertical-align: middle;\n",
       "    }\n",
       "\n",
       "    .dataframe tbody tr th {\n",
       "        vertical-align: top;\n",
       "    }\n",
       "\n",
       "    .dataframe thead th {\n",
       "        text-align: right;\n",
       "    }\n",
       "</style>\n",
       "<table border=\"1\" class=\"dataframe\">\n",
       "  <thead>\n",
       "    <tr style=\"text-align: right;\">\n",
       "      <th></th>\n",
       "      <th>name</th>\n",
       "      <th>price</th>\n",
       "      <th>vehicleType</th>\n",
       "      <th>yearOfRegistration</th>\n",
       "      <th>gearbox</th>\n",
       "      <th>powerCV</th>\n",
       "      <th>kilometer</th>\n",
       "      <th>fuelType</th>\n",
       "      <th>brand</th>\n",
       "      <th>notRepairedDamage</th>\n",
       "    </tr>\n",
       "  </thead>\n",
       "  <tbody>\n",
       "    <tr>\n",
       "      <th>77520</th>\n",
       "      <td>Tausch_gegen_gleichwertiges</td>\n",
       "      <td>99999999</td>\n",
       "      <td>NaN</td>\n",
       "      <td>1999</td>\n",
       "      <td>automatic</td>\n",
       "      <td>221.0</td>\n",
       "      <td>150000</td>\n",
       "      <td>petrol</td>\n",
       "      <td>mercedes_benz</td>\n",
       "      <td>NaN</td>\n",
       "    </tr>\n",
       "    <tr>\n",
       "      <th>310924</th>\n",
       "      <td>Wer_will_mich_kleinen_polo_6n1</td>\n",
       "      <td>12345678</td>\n",
       "      <td>small car</td>\n",
       "      <td>1997</td>\n",
       "      <td>manually</td>\n",
       "      <td>44.0</td>\n",
       "      <td>150000</td>\n",
       "      <td>petrol</td>\n",
       "      <td>volkswagen</td>\n",
       "      <td>NaN</td>\n",
       "    </tr>\n",
       "    <tr>\n",
       "      <th>108987</th>\n",
       "      <td>Biete_Hier_zum_Tauschen_an_aber_nur_realistisc...</td>\n",
       "      <td>99999999</td>\n",
       "      <td>NaN</td>\n",
       "      <td>2017</td>\n",
       "      <td>manually</td>\n",
       "      <td>108.0</td>\n",
       "      <td>150000</td>\n",
       "      <td>NaN</td>\n",
       "      <td>volkswagen</td>\n",
       "      <td>NaN</td>\n",
       "    </tr>\n",
       "    <tr>\n",
       "      <th>196306</th>\n",
       "      <td>Suche_Motorcross_.!</td>\n",
       "      <td>10000000</td>\n",
       "      <td>NaN</td>\n",
       "      <td>2017</td>\n",
       "      <td>manually</td>\n",
       "      <td>0.0</td>\n",
       "      <td>5000</td>\n",
       "      <td>petrol</td>\n",
       "      <td>volkswagen</td>\n",
       "      <td>NaN</td>\n",
       "    </tr>\n",
       "    <tr>\n",
       "      <th>54507</th>\n",
       "      <td>Tausch_DKW_F8_gegen_Lanz_Bulldog</td>\n",
       "      <td>11111111</td>\n",
       "      <td>other</td>\n",
       "      <td>1953</td>\n",
       "      <td>manually</td>\n",
       "      <td>20.0</td>\n",
       "      <td>150000</td>\n",
       "      <td>NaN</td>\n",
       "      <td>audi</td>\n",
       "      <td>no</td>\n",
       "    </tr>\n",
       "    <tr>\n",
       "      <th>338415</th>\n",
       "      <td>Polo_6n_gti__Zustand_egal_</td>\n",
       "      <td>11111111</td>\n",
       "      <td>NaN</td>\n",
       "      <td>2000</td>\n",
       "      <td>NaN</td>\n",
       "      <td>118.0</td>\n",
       "      <td>125000</td>\n",
       "      <td>petrol</td>\n",
       "      <td>volkswagen</td>\n",
       "      <td>NaN</td>\n",
       "    </tr>\n",
       "    <tr>\n",
       "      <th>127820</th>\n",
       "      <td>audi_a6_c5_avant</td>\n",
       "      <td>99999999</td>\n",
       "      <td>combi</td>\n",
       "      <td>1999</td>\n",
       "      <td>manually</td>\n",
       "      <td>163.0</td>\n",
       "      <td>5000</td>\n",
       "      <td>petrol</td>\n",
       "      <td>audi</td>\n",
       "      <td>no</td>\n",
       "    </tr>\n",
       "    <tr>\n",
       "      <th>91106</th>\n",
       "      <td>Verkaufe_oder_tausche_wenn_nur_gegen_Kombi_s4_...</td>\n",
       "      <td>9999999</td>\n",
       "      <td>NaN</td>\n",
       "      <td>1996</td>\n",
       "      <td>manually</td>\n",
       "      <td>375.0</td>\n",
       "      <td>60000</td>\n",
       "      <td>petrol</td>\n",
       "      <td>audi</td>\n",
       "      <td>no</td>\n",
       "    </tr>\n",
       "    <tr>\n",
       "      <th>160530</th>\n",
       "      <td>Golf_4_schrott</td>\n",
       "      <td>99999999</td>\n",
       "      <td>small car</td>\n",
       "      <td>2001</td>\n",
       "      <td>NaN</td>\n",
       "      <td>0.0</td>\n",
       "      <td>20000</td>\n",
       "      <td>petrol</td>\n",
       "      <td>volkswagen</td>\n",
       "      <td>NaN</td>\n",
       "    </tr>\n",
       "    <tr>\n",
       "      <th>287835</th>\n",
       "      <td>tausche_o_verkaufe</td>\n",
       "      <td>12345678</td>\n",
       "      <td>combi</td>\n",
       "      <td>2001</td>\n",
       "      <td>manually</td>\n",
       "      <td>100.0</td>\n",
       "      <td>150000</td>\n",
       "      <td>petrol</td>\n",
       "      <td>ford</td>\n",
       "      <td>no</td>\n",
       "    </tr>\n",
       "  </tbody>\n",
       "</table>\n",
       "</div>"
      ],
      "text/plain": [
       "                                                     name     price  \\\n",
       "77520                         Tausch_gegen_gleichwertiges  99999999   \n",
       "310924                     Wer_will_mich_kleinen_polo_6n1  12345678   \n",
       "108987  Biete_Hier_zum_Tauschen_an_aber_nur_realistisc...  99999999   \n",
       "196306                                Suche_Motorcross_.!  10000000   \n",
       "54507                    Tausch_DKW_F8_gegen_Lanz_Bulldog  11111111   \n",
       "338415                         Polo_6n_gti__Zustand_egal_  11111111   \n",
       "127820                                   audi_a6_c5_avant  99999999   \n",
       "91106   Verkaufe_oder_tausche_wenn_nur_gegen_Kombi_s4_...   9999999   \n",
       "160530                                     Golf_4_schrott  99999999   \n",
       "287835                                 tausche_o_verkaufe  12345678   \n",
       "\n",
       "       vehicleType  yearOfRegistration    gearbox  powerCV  kilometer  \\\n",
       "77520          NaN                1999  automatic    221.0     150000   \n",
       "310924   small car                1997   manually     44.0     150000   \n",
       "108987         NaN                2017   manually    108.0     150000   \n",
       "196306         NaN                2017   manually      0.0       5000   \n",
       "54507        other                1953   manually     20.0     150000   \n",
       "338415         NaN                2000        NaN    118.0     125000   \n",
       "127820       combi                1999   manually    163.0       5000   \n",
       "91106          NaN                1996   manually    375.0      60000   \n",
       "160530   small car                2001        NaN      0.0      20000   \n",
       "287835       combi                2001   manually    100.0     150000   \n",
       "\n",
       "       fuelType          brand notRepairedDamage  \n",
       "77520    petrol  mercedes_benz               NaN  \n",
       "310924   petrol     volkswagen               NaN  \n",
       "108987      NaN     volkswagen               NaN  \n",
       "196306   petrol     volkswagen               NaN  \n",
       "54507       NaN           audi                no  \n",
       "338415   petrol     volkswagen               NaN  \n",
       "127820   petrol           audi                no  \n",
       "91106    petrol           audi                no  \n",
       "160530   petrol     volkswagen               NaN  \n",
       "287835   petrol           ford                no  "
      ]
     },
     "execution_count": 41,
     "metadata": {},
     "output_type": "execute_result"
    }
   ],
   "source": [
    "df[df['price'] > umbral_precio_superior].sample(10)"
   ]
  },
  {
   "cell_type": "markdown",
   "id": "ede90dfc",
   "metadata": {},
   "source": [
    "Tras revisar los datos podemos concluir que todos los precios superiores a 4 millones correponden a registros erróneos.\n",
    "\n",
    "Por tanto, filtramos los datos por precios de esta forma:"
   ]
  },
  {
   "cell_type": "code",
   "execution_count": 42,
   "id": "6e59034d",
   "metadata": {},
   "outputs": [],
   "source": [
    "filtro_precio = (df['price'] > umbral_precio_inferior) & (df['price'] < umbral_precio_superior)\n",
    "\n",
    "df = df[filtro_precio]"
   ]
  },
  {
   "cell_type": "markdown",
   "id": "eac53847",
   "metadata": {},
   "source": [
    "### Columna `yearOfRegistration`"
   ]
  },
  {
   "cell_type": "markdown",
   "id": "d20b1c46",
   "metadata": {},
   "source": [
    "Tal y como vimos con las columnas de fechas de los anuncios, los registros no pueden ser posteriores a 2016. Sin embargo, vamos a comprobar las entradas posteriores a este año."
   ]
  },
  {
   "cell_type": "code",
   "execution_count": 43,
   "id": "8ce2b59c",
   "metadata": {},
   "outputs": [
    {
     "data": {
      "text/plain": [
       "yearOfRegistration\n",
       "2017    9925\n",
       "2018    3797\n",
       "2019      15\n",
       "9999      14\n",
       "5000      14\n",
       "Name: count, dtype: int64"
      ]
     },
     "execution_count": 43,
     "metadata": {},
     "output_type": "execute_result"
    }
   ],
   "source": [
    "df[df['yearOfRegistration'] > 2016]['yearOfRegistration'].value_counts().head()"
   ]
  },
  {
   "cell_type": "markdown",
   "id": "d36ef097",
   "metadata": {},
   "source": [
    "Vemos que hay unas cuantas entradas en 2017 y 2018, por lo que vamos a mantenerlas ya ue es posible que las columnas de fechs que habíamos eliminado fuesen las que estaban mal.\n",
    "\n",
    "El resto de años con mucho menos frecuentes y la mayoria no tienen sentido por lo que podemos asumir que son errores y eliminarlos o etiquetarlos como nulos"
   ]
  },
  {
   "cell_type": "code",
   "execution_count": 44,
   "id": "74f067f3",
   "metadata": {},
   "outputs": [],
   "source": [
    "# Nos quedamos con las entradas que sean anteriores a 2019 (el umbral de años que hemos establecido)\n",
    "df = df[df['yearOfRegistration'] < 2019]"
   ]
  },
  {
   "cell_type": "markdown",
   "id": "fd83e40c",
   "metadata": {},
   "source": [
    "Veamos que ocurre ahora con las fechas muyh antiguas, establezcamos el umbral en 1930.\n"
   ]
  },
  {
   "cell_type": "code",
   "execution_count": 45,
   "id": "b8065966",
   "metadata": {},
   "outputs": [
    {
     "data": {
      "text/plain": [
       "yearOfRegistration\n",
       "1910    36\n",
       "1000    23\n",
       "1937    12\n",
       "1938     8\n",
       "1929     7\n",
       "Name: count, dtype: int64"
      ]
     },
     "execution_count": 45,
     "metadata": {},
     "output_type": "execute_result"
    }
   ],
   "source": [
    "umbral_fecha = 1950\n",
    "\n",
    "df[df['yearOfRegistration'] < umbral_fecha]['yearOfRegistration'].value_counts().head()"
   ]
  },
  {
   "cell_type": "markdown",
   "id": "192694f8",
   "metadata": {},
   "source": [
    "- Vemos que tenemos 36 entradas de 1910, que seguramente sean errores\n",
    "- Veamos la distribucion de forma gráfica más detallada"
   ]
  },
  {
   "cell_type": "code",
   "execution_count": 46,
   "id": "46c30c24",
   "metadata": {},
   "outputs": [
    {
     "data": {
      "image/png": "[encoded data removed]",
      "text/plain": [
       "<Figure size 800x400 with 1 Axes>"
      ]
     },
     "metadata": {},
     "output_type": "display_data"
    }
   ],
   "source": [
    "plt.figure(figsize=(8, 4))\n",
    "\n",
    "sns.histplot(df['yearOfRegistration'], bins=20, binrange=(1900, 1970))\n",
    "plt.show()"
   ]
  },
  {
   "cell_type": "code",
   "execution_count": 47,
   "id": "1fe46ff4",
   "metadata": {},
   "outputs": [
    {
     "data": {
      "image/png": "[encoded data removed]",
      "text/plain": [
       "<Figure size 800x400 with 1 Axes>"
      ]
     },
     "metadata": {},
     "output_type": "display_data"
    }
   ],
   "source": [
    "plt.figure(figsize=(8, 4))\n",
    "\n",
    "sns.histplot(df['yearOfRegistration'], bins=20, binrange=(umbral_fecha, 2019))\n",
    "plt.show()"
   ]
  },
  {
   "cell_type": "markdown",
   "id": "3fe6965d",
   "metadata": {},
   "source": [
    "podemos examinar individualmente las entradas de vehiculos mas antiguos para ver si genuinamente son errores"
   ]
  },
  {
   "cell_type": "code",
   "execution_count": 48,
   "id": "1d59465c",
   "metadata": {},
   "outputs": [
    {
     "data": {
      "text/html": [
       "<div>\n",
       "<style scoped>\n",
       "    .dataframe tbody tr th:only-of-type {\n",
       "        vertical-align: middle;\n",
       "    }\n",
       "\n",
       "    .dataframe tbody tr th {\n",
       "        vertical-align: top;\n",
       "    }\n",
       "\n",
       "    .dataframe thead th {\n",
       "        text-align: right;\n",
       "    }\n",
       "</style>\n",
       "<table border=\"1\" class=\"dataframe\">\n",
       "  <thead>\n",
       "    <tr style=\"text-align: right;\">\n",
       "      <th></th>\n",
       "      <th>name</th>\n",
       "      <th>price</th>\n",
       "      <th>vehicleType</th>\n",
       "      <th>yearOfRegistration</th>\n",
       "      <th>gearbox</th>\n",
       "      <th>powerCV</th>\n",
       "      <th>kilometer</th>\n",
       "      <th>fuelType</th>\n",
       "      <th>brand</th>\n",
       "      <th>notRepairedDamage</th>\n",
       "    </tr>\n",
       "  </thead>\n",
       "  <tbody>\n",
       "    <tr>\n",
       "      <th>357294</th>\n",
       "      <td>A3_zu_verkaufen</td>\n",
       "      <td>700</td>\n",
       "      <td>NaN</td>\n",
       "      <td>1600</td>\n",
       "      <td>manually</td>\n",
       "      <td>1578.0</td>\n",
       "      <td>150000</td>\n",
       "      <td>petrol</td>\n",
       "      <td>audi</td>\n",
       "      <td>no</td>\n",
       "    </tr>\n",
       "    <tr>\n",
       "      <th>223909</th>\n",
       "      <td>4_WINTERKOMPLETTRÄDER__225_/55_R_16_____neuwer...</td>\n",
       "      <td>380</td>\n",
       "      <td>NaN</td>\n",
       "      <td>1000</td>\n",
       "      <td>NaN</td>\n",
       "      <td>0.0</td>\n",
       "      <td>5000</td>\n",
       "      <td>NaN</td>\n",
       "      <td>bmw</td>\n",
       "      <td>NaN</td>\n",
       "    </tr>\n",
       "    <tr>\n",
       "      <th>274801</th>\n",
       "      <td>Ford_escord_xr3i_Sport</td>\n",
       "      <td>189</td>\n",
       "      <td>NaN</td>\n",
       "      <td>1910</td>\n",
       "      <td>NaN</td>\n",
       "      <td>0.0</td>\n",
       "      <td>150000</td>\n",
       "      <td>NaN</td>\n",
       "      <td>ford</td>\n",
       "      <td>NaN</td>\n",
       "    </tr>\n",
       "    <tr>\n",
       "      <th>28823</th>\n",
       "      <td>Chrysler_Windsor_Oldtimer</td>\n",
       "      <td>13300</td>\n",
       "      <td>NaN</td>\n",
       "      <td>1949</td>\n",
       "      <td>NaN</td>\n",
       "      <td>98.0</td>\n",
       "      <td>60000</td>\n",
       "      <td>petrol</td>\n",
       "      <td>chrysler</td>\n",
       "      <td>NaN</td>\n",
       "    </tr>\n",
       "    <tr>\n",
       "      <th>201646</th>\n",
       "      <td>Ford_Ford_Model_A_1931_Sedan_Hot_Rod_V8_Flathead</td>\n",
       "      <td>22950</td>\n",
       "      <td>combi</td>\n",
       "      <td>1931</td>\n",
       "      <td>manually</td>\n",
       "      <td>0.0</td>\n",
       "      <td>20000</td>\n",
       "      <td>petrol</td>\n",
       "      <td>ford</td>\n",
       "      <td>no</td>\n",
       "    </tr>\n",
       "  </tbody>\n",
       "</table>\n",
       "</div>"
      ],
      "text/plain": [
       "                                                     name  price vehicleType  \\\n",
       "357294                                    A3_zu_verkaufen    700         NaN   \n",
       "223909  4_WINTERKOMPLETTRÄDER__225_/55_R_16_____neuwer...    380         NaN   \n",
       "274801                             Ford_escord_xr3i_Sport    189         NaN   \n",
       "28823                           Chrysler_Windsor_Oldtimer  13300         NaN   \n",
       "201646   Ford_Ford_Model_A_1931_Sedan_Hot_Rod_V8_Flathead  22950       combi   \n",
       "\n",
       "        yearOfRegistration   gearbox  powerCV  kilometer fuelType     brand  \\\n",
       "357294                1600  manually   1578.0     150000   petrol      audi   \n",
       "223909                1000       NaN      0.0       5000      NaN       bmw   \n",
       "274801                1910       NaN      0.0     150000      NaN      ford   \n",
       "28823                 1949       NaN     98.0      60000   petrol  chrysler   \n",
       "201646                1931  manually      0.0      20000   petrol      ford   \n",
       "\n",
       "       notRepairedDamage  \n",
       "357294                no  \n",
       "223909               NaN  \n",
       "274801               NaN  \n",
       "28823                NaN  \n",
       "201646                no  "
      ]
     },
     "execution_count": 48,
     "metadata": {},
     "output_type": "execute_result"
    }
   ],
   "source": [
    "df[df['yearOfRegistration'] < umbral_fecha].sample(5)"
   ]
  },
  {
   "cell_type": "markdown",
   "id": "7d290177",
   "metadata": {},
   "source": [
    "- Vemos que la mayoría de estas entradas parecen ser erróneas por lo que directamente vamos a aplicar un filtro para eliminarlarlas.\n",
    "- También podríamos convertir su año a nulo y luego gestionarlos, per al tener tan poca información y ser pocas entradas del dataset no nos compensa."
   ]
  },
  {
   "cell_type": "code",
   "execution_count": 49,
   "id": "0b929422",
   "metadata": {},
   "outputs": [],
   "source": [
    "#Nos quedamos con las entradas que sean posterirores a 1950 (el umbral de años que hemos establecido)\n",
    "df = df[df['yearOfRegistration'] > umbral_fecha]"
   ]
  },
  {
   "cell_type": "markdown",
   "id": "e0ce98b3",
   "metadata": {},
   "source": [
    "## Columna `powerCV` "
   ]
  },
  {
   "cell_type": "markdown",
   "id": "7c33c0e6",
   "metadata": {},
   "source": [
    "- Un vehículo con una potencia de más de 1200 CV practicamente no existe, y menos aún que se venda de segunda mano.\n",
    "- Estos valores seran convertidos a nulos\n",
    "- Por otro lado, es poco frecuente tener vehículos en el rango entre 550 CV y 1200CV, incluso siendo deportivos. Vamos a ver la distribución de este rango."
   ]
  },
  {
   "cell_type": "code",
   "execution_count": 50,
   "id": "875a71f6",
   "metadata": {},
   "outputs": [
    {
     "data": {
      "image/png": "[encoded data removed]",
      "text/plain": [
       "<Figure size 800x400 with 1 Axes>"
      ]
     },
     "metadata": {},
     "output_type": "display_data"
    }
   ],
   "source": [
    "umbral_superior_cv = 550\n",
    "\n",
    "plt.figure(figsize=(8, 4))\n",
    "\n",
    "sns.histplot(df['powerCV'], bins=20, binrange=(umbral_superior_cv, 1200))\n",
    "plt.show()"
   ]
  },
  {
   "cell_type": "code",
   "execution_count": 51,
   "id": "ecf6ec6f",
   "metadata": {},
   "outputs": [
    {
     "data": {
      "text/plain": [
       "(518, 10)"
      ]
     },
     "execution_count": 51,
     "metadata": {},
     "output_type": "execute_result"
    }
   ],
   "source": [
    "df[df['powerCV'] > umbral_superior_cv].shape"
   ]
  },
  {
   "cell_type": "code",
   "execution_count": 52,
   "id": "ac0cae89",
   "metadata": {},
   "outputs": [
    {
     "data": {
      "text/html": [
       "<div>\n",
       "<style scoped>\n",
       "    .dataframe tbody tr th:only-of-type {\n",
       "        vertical-align: middle;\n",
       "    }\n",
       "\n",
       "    .dataframe tbody tr th {\n",
       "        vertical-align: top;\n",
       "    }\n",
       "\n",
       "    .dataframe thead th {\n",
       "        text-align: right;\n",
       "    }\n",
       "</style>\n",
       "<table border=\"1\" class=\"dataframe\">\n",
       "  <thead>\n",
       "    <tr style=\"text-align: right;\">\n",
       "      <th></th>\n",
       "      <th>name</th>\n",
       "      <th>price</th>\n",
       "      <th>vehicleType</th>\n",
       "      <th>yearOfRegistration</th>\n",
       "      <th>gearbox</th>\n",
       "      <th>powerCV</th>\n",
       "      <th>kilometer</th>\n",
       "      <th>fuelType</th>\n",
       "      <th>brand</th>\n",
       "      <th>notRepairedDamage</th>\n",
       "    </tr>\n",
       "  </thead>\n",
       "  <tbody>\n",
       "    <tr>\n",
       "      <th>1898</th>\n",
       "      <td>Toyota_Corolla</td>\n",
       "      <td>3200</td>\n",
       "      <td>small car</td>\n",
       "      <td>2004</td>\n",
       "      <td>manually</td>\n",
       "      <td>1379.0</td>\n",
       "      <td>5000</td>\n",
       "      <td>petrol</td>\n",
       "      <td>toyota</td>\n",
       "      <td>no</td>\n",
       "    </tr>\n",
       "    <tr>\n",
       "      <th>2735</th>\n",
       "      <td>Ferrari_California_F1</td>\n",
       "      <td>120000</td>\n",
       "      <td>convertible</td>\n",
       "      <td>2012</td>\n",
       "      <td>automatic</td>\n",
       "      <td>657.0</td>\n",
       "      <td>20000</td>\n",
       "      <td>petrol</td>\n",
       "      <td>sonstige_autos</td>\n",
       "      <td>no</td>\n",
       "    </tr>\n",
       "    <tr>\n",
       "      <th>4254</th>\n",
       "      <td>Mitsubishi_Colt_Diesel_1_5</td>\n",
       "      <td>3100</td>\n",
       "      <td>NaN</td>\n",
       "      <td>2005</td>\n",
       "      <td>manually</td>\n",
       "      <td>940.0</td>\n",
       "      <td>150000</td>\n",
       "      <td>diesel</td>\n",
       "      <td>mitsubishi</td>\n",
       "      <td>no</td>\n",
       "    </tr>\n",
       "    <tr>\n",
       "      <th>5582</th>\n",
       "      <td>verkauf__bastler__export</td>\n",
       "      <td>500</td>\n",
       "      <td>combi</td>\n",
       "      <td>1999</td>\n",
       "      <td>manually</td>\n",
       "      <td>987.0</td>\n",
       "      <td>150000</td>\n",
       "      <td>petrol</td>\n",
       "      <td>opel</td>\n",
       "      <td>NaN</td>\n",
       "    </tr>\n",
       "    <tr>\n",
       "      <th>6593</th>\n",
       "      <td>Daewoo_Chevrollet_Matiz_2002_zu_verkaufen</td>\n",
       "      <td>599</td>\n",
       "      <td>small car</td>\n",
       "      <td>2002</td>\n",
       "      <td>manually</td>\n",
       "      <td>595.0</td>\n",
       "      <td>5000</td>\n",
       "      <td>petrol</td>\n",
       "      <td>chevrolet</td>\n",
       "      <td>yes</td>\n",
       "    </tr>\n",
       "    <tr>\n",
       "      <th>...</th>\n",
       "      <td>...</td>\n",
       "      <td>...</td>\n",
       "      <td>...</td>\n",
       "      <td>...</td>\n",
       "      <td>...</td>\n",
       "      <td>...</td>\n",
       "      <td>...</td>\n",
       "      <td>...</td>\n",
       "      <td>...</td>\n",
       "      <td>...</td>\n",
       "    </tr>\n",
       "    <tr>\n",
       "      <th>369007</th>\n",
       "      <td>!!!!!_Opel_zafira_2.0_dti_16_v_comfort_verkauf...</td>\n",
       "      <td>1500</td>\n",
       "      <td>bus</td>\n",
       "      <td>2001</td>\n",
       "      <td>manually</td>\n",
       "      <td>987.0</td>\n",
       "      <td>5000</td>\n",
       "      <td>diesel</td>\n",
       "      <td>opel</td>\n",
       "      <td>no</td>\n",
       "    </tr>\n",
       "    <tr>\n",
       "      <th>370612</th>\n",
       "      <td>Dodge_journey_sxt_crd</td>\n",
       "      <td>12500</td>\n",
       "      <td>NaN</td>\n",
       "      <td>2017</td>\n",
       "      <td>manually</td>\n",
       "      <td>1973.0</td>\n",
       "      <td>60000</td>\n",
       "      <td>diesel</td>\n",
       "      <td>chrysler</td>\n",
       "      <td>no</td>\n",
       "    </tr>\n",
       "    <tr>\n",
       "      <th>370760</th>\n",
       "      <td>Citroën_c2</td>\n",
       "      <td>2400</td>\n",
       "      <td>NaN</td>\n",
       "      <td>2007</td>\n",
       "      <td>manually</td>\n",
       "      <td>641.0</td>\n",
       "      <td>150000</td>\n",
       "      <td>petrol</td>\n",
       "      <td>citroen</td>\n",
       "      <td>NaN</td>\n",
       "    </tr>\n",
       "    <tr>\n",
       "      <th>371196</th>\n",
       "      <td>Cadillac_CTS_V_Dt.Modell_Garantie_3/17_Magnafl...</td>\n",
       "      <td>42000</td>\n",
       "      <td>NaN</td>\n",
       "      <td>2012</td>\n",
       "      <td>automatic</td>\n",
       "      <td>556.0</td>\n",
       "      <td>50000</td>\n",
       "      <td>petrol</td>\n",
       "      <td>sonstige_autos</td>\n",
       "      <td>no</td>\n",
       "    </tr>\n",
       "    <tr>\n",
       "      <th>371414</th>\n",
       "      <td>BMW_Compakt</td>\n",
       "      <td>399</td>\n",
       "      <td>other</td>\n",
       "      <td>1994</td>\n",
       "      <td>NaN</td>\n",
       "      <td>1088.0</td>\n",
       "      <td>150000</td>\n",
       "      <td>NaN</td>\n",
       "      <td>bmw</td>\n",
       "      <td>NaN</td>\n",
       "    </tr>\n",
       "  </tbody>\n",
       "</table>\n",
       "<p>518 rows × 10 columns</p>\n",
       "</div>"
      ],
      "text/plain": [
       "                                                     name   price  \\\n",
       "1898                                       Toyota_Corolla    3200   \n",
       "2735                                Ferrari_California_F1  120000   \n",
       "4254                           Mitsubishi_Colt_Diesel_1_5    3100   \n",
       "5582                             verkauf__bastler__export     500   \n",
       "6593            Daewoo_Chevrollet_Matiz_2002_zu_verkaufen     599   \n",
       "...                                                   ...     ...   \n",
       "369007  !!!!!_Opel_zafira_2.0_dti_16_v_comfort_verkauf...    1500   \n",
       "370612                              Dodge_journey_sxt_crd   12500   \n",
       "370760                                         Citroën_c2    2400   \n",
       "371196  Cadillac_CTS_V_Dt.Modell_Garantie_3/17_Magnafl...   42000   \n",
       "371414                                        BMW_Compakt     399   \n",
       "\n",
       "        vehicleType  yearOfRegistration    gearbox  powerCV  kilometer  \\\n",
       "1898      small car                2004   manually   1379.0       5000   \n",
       "2735    convertible                2012  automatic    657.0      20000   \n",
       "4254            NaN                2005   manually    940.0     150000   \n",
       "5582          combi                1999   manually    987.0     150000   \n",
       "6593      small car                2002   manually    595.0       5000   \n",
       "...             ...                 ...        ...      ...        ...   \n",
       "369007          bus                2001   manually    987.0       5000   \n",
       "370612          NaN                2017   manually   1973.0      60000   \n",
       "370760          NaN                2007   manually    641.0     150000   \n",
       "371196          NaN                2012  automatic    556.0      50000   \n",
       "371414        other                1994        NaN   1088.0     150000   \n",
       "\n",
       "       fuelType           brand notRepairedDamage  \n",
       "1898     petrol          toyota                no  \n",
       "2735     petrol  sonstige_autos                no  \n",
       "4254     diesel      mitsubishi                no  \n",
       "5582     petrol            opel               NaN  \n",
       "6593     petrol       chevrolet               yes  \n",
       "...         ...             ...               ...  \n",
       "369007   diesel            opel                no  \n",
       "370612   diesel        chrysler                no  \n",
       "370760   petrol         citroen               NaN  \n",
       "371196   petrol  sonstige_autos                no  \n",
       "371414      NaN             bmw               NaN  \n",
       "\n",
       "[518 rows x 10 columns]"
      ]
     },
     "execution_count": 52,
     "metadata": {},
     "output_type": "execute_result"
    }
   ],
   "source": [
    "df[df['powerCV'] > umbral_superior_cv]"
   ]
  },
  {
   "cell_type": "code",
   "execution_count": 53,
   "id": "7713ea81",
   "metadata": {},
   "outputs": [],
   "source": [
    "df = df[df['powerCV'] < umbral_superior_cv]"
   ]
  },
  {
   "cell_type": "markdown",
   "id": "d7d7f4c0",
   "metadata": {},
   "source": [
    "En cuanto al rango inferior de potencia, los vehiculos con potencia inferior a cierto valor no son realistas.Los vehículos menos potentes del mercado pueden llegar hasta 50CV.Pongamos el umbral de 40CV, para permitir la posibilidad de que vehículos más antiguos o modestos puedan llegar a niveles mas bajos\n",
    "- Veamos algunas entradas\n"
   ]
  },
  {
   "cell_type": "code",
   "execution_count": 60,
   "id": "a40ce7bb",
   "metadata": {},
   "outputs": [
    {
     "data": {
      "text/html": [
       "<div>\n",
       "<style scoped>\n",
       "    .dataframe tbody tr th:only-of-type {\n",
       "        vertical-align: middle;\n",
       "    }\n",
       "\n",
       "    .dataframe tbody tr th {\n",
       "        vertical-align: top;\n",
       "    }\n",
       "\n",
       "    .dataframe thead th {\n",
       "        text-align: right;\n",
       "    }\n",
       "</style>\n",
       "<table border=\"1\" class=\"dataframe\">\n",
       "  <thead>\n",
       "    <tr style=\"text-align: right;\">\n",
       "      <th></th>\n",
       "      <th>name</th>\n",
       "      <th>price</th>\n",
       "      <th>vehicleType</th>\n",
       "      <th>yearOfRegistration</th>\n",
       "      <th>gearbox</th>\n",
       "      <th>powerCV</th>\n",
       "      <th>kilometer</th>\n",
       "      <th>fuelType</th>\n",
       "      <th>brand</th>\n",
       "      <th>notRepairedDamage</th>\n",
       "    </tr>\n",
       "  </thead>\n",
       "  <tbody>\n",
       "    <tr>\n",
       "      <th>286924</th>\n",
       "      <td>Volkswagen_Polo_1.2</td>\n",
       "      <td>2500</td>\n",
       "      <td>small car</td>\n",
       "      <td>2005</td>\n",
       "      <td>manually</td>\n",
       "      <td>0.0</td>\n",
       "      <td>150000</td>\n",
       "      <td>petrol</td>\n",
       "      <td>volkswagen</td>\n",
       "      <td>no</td>\n",
       "    </tr>\n",
       "    <tr>\n",
       "      <th>226579</th>\n",
       "      <td>Peugeot_307_Kombi_1.6_LPG_GAS</td>\n",
       "      <td>2000</td>\n",
       "      <td>small car</td>\n",
       "      <td>2003</td>\n",
       "      <td>manually</td>\n",
       "      <td>0.0</td>\n",
       "      <td>150000</td>\n",
       "      <td>NaN</td>\n",
       "      <td>peugeot</td>\n",
       "      <td>no</td>\n",
       "    </tr>\n",
       "    <tr>\n",
       "      <th>43409</th>\n",
       "      <td>Auto_mit_Schaeden_fuer_Bastler_und_kreative_Ko...</td>\n",
       "      <td>150</td>\n",
       "      <td>NaN</td>\n",
       "      <td>1997</td>\n",
       "      <td>manually</td>\n",
       "      <td>0.0</td>\n",
       "      <td>150000</td>\n",
       "      <td>petrol</td>\n",
       "      <td>seat</td>\n",
       "      <td>yes</td>\n",
       "    </tr>\n",
       "    <tr>\n",
       "      <th>290571</th>\n",
       "      <td>Fiat_126_Bastlerfahrzeug</td>\n",
       "      <td>400</td>\n",
       "      <td>small car</td>\n",
       "      <td>1989</td>\n",
       "      <td>manually</td>\n",
       "      <td>26.0</td>\n",
       "      <td>5000</td>\n",
       "      <td>NaN</td>\n",
       "      <td>fiat</td>\n",
       "      <td>NaN</td>\n",
       "    </tr>\n",
       "    <tr>\n",
       "      <th>27071</th>\n",
       "      <td>Toyota_Corolla_XLi__4WD_Alrad</td>\n",
       "      <td>1500</td>\n",
       "      <td>combi</td>\n",
       "      <td>1988</td>\n",
       "      <td>manually</td>\n",
       "      <td>0.0</td>\n",
       "      <td>150000</td>\n",
       "      <td>petrol</td>\n",
       "      <td>toyota</td>\n",
       "      <td>no</td>\n",
       "    </tr>\n",
       "  </tbody>\n",
       "</table>\n",
       "</div>"
      ],
      "text/plain": [
       "                                                     name  price vehicleType  \\\n",
       "286924                                Volkswagen_Polo_1.2   2500   small car   \n",
       "226579                      Peugeot_307_Kombi_1.6_LPG_GAS   2000   small car   \n",
       "43409   Auto_mit_Schaeden_fuer_Bastler_und_kreative_Ko...    150         NaN   \n",
       "290571                           Fiat_126_Bastlerfahrzeug    400   small car   \n",
       "27071                       Toyota_Corolla_XLi__4WD_Alrad   1500       combi   \n",
       "\n",
       "        yearOfRegistration   gearbox  powerCV  kilometer fuelType       brand  \\\n",
       "286924                2005  manually      0.0     150000   petrol  volkswagen   \n",
       "226579                2003  manually      0.0     150000      NaN     peugeot   \n",
       "43409                 1997  manually      0.0     150000   petrol        seat   \n",
       "290571                1989  manually     26.0       5000      NaN        fiat   \n",
       "27071                 1988  manually      0.0     150000   petrol      toyota   \n",
       "\n",
       "       notRepairedDamage  \n",
       "286924                no  \n",
       "226579                no  \n",
       "43409                yes  \n",
       "290571               NaN  \n",
       "27071                 no  "
      ]
     },
     "execution_count": 60,
     "metadata": {},
     "output_type": "execute_result"
    }
   ],
   "source": [
    "df[df['powerCV'] < 40].sample(5)"
   ]
  },
  {
   "cell_type": "code",
   "execution_count": 61,
   "id": "40bc493e",
   "metadata": {},
   "outputs": [
    {
     "data": {
      "text/plain": [
       "36668"
      ]
     },
     "execution_count": 61,
     "metadata": {},
     "output_type": "execute_result"
    }
   ],
   "source": [
    "df[df['powerCV'] < 40].shape[0]"
   ]
  },
  {
   "cell_type": "code",
   "execution_count": 70,
   "id": "c788c0f2",
   "metadata": {},
   "outputs": [
    {
     "data": {
      "text/plain": [
       "10.0"
      ]
     },
     "execution_count": 70,
     "metadata": {},
     "output_type": "execute_result"
    }
   ],
   "source": [
    "round(df[df['powerCV'] < 40].shape[0] / df.shape[0], 2) * 100"
   ]
  },
  {
   "cell_type": "markdown",
   "id": "81403a4f",
   "metadata": {},
   "source": [
    "Vemos que hay muchas entradas con un valor de 0 o valores que no tienen sentido. Caomo son bastantes entradas (10%), no las vamos a eliminar, sino que las reemplazaremos por valores nulos."
   ]
  },
  {
   "cell_type": "code",
   "execution_count": 72,
   "id": "87ea024b",
   "metadata": {},
   "outputs": [],
   "source": [
    "# Generar nulos para estos valores\n",
    "df['powerCV'] = df['powerCV'].apply(lambda x: np.nan if x < 40 else x)"
   ]
  }
 ],
 "metadata": {
  "kernelspec": {
   "display_name": "base",
   "language": "python",
   "name": "python3"
  },
  "language_info": {
   "codemirror_mode": {
    "name": "ipython",
    "version": 3
   },
   "file_extension": ".py",
   "mimetype": "text/x-python",
   "name": "python",
   "nbconvert_exporter": "python",
   "pygments_lexer": "ipython3",
   "version": "3.11.7"
  }
 },
 "nbformat": 4,
 "nbformat_minor": 5
}
